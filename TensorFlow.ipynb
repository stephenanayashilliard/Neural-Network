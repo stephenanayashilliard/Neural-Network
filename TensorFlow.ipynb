{
 "cells": [
  {
   "cell_type": "code",
   "execution_count": 2,
   "metadata": {},
   "outputs": [
    {
     "name": "stdout",
     "output_type": "stream",
     "text": [
      "Requirement already up-to-date: tensorflow in c:\\users\\stephen\\anaconda3\\lib\\site-packages (2.4.1)\n",
      "Requirement already satisfied, skipping upgrade: astunparse~=1.6.3 in c:\\users\\stephen\\anaconda3\\lib\\site-packages (from tensorflow) (1.6.3)\n",
      "Requirement already satisfied, skipping upgrade: keras-preprocessing~=1.1.2 in c:\\users\\stephen\\anaconda3\\lib\\site-packages (from tensorflow) (1.1.2)\n",
      "Requirement already satisfied, skipping upgrade: numpy~=1.19.2 in c:\\users\\stephen\\anaconda3\\lib\\site-packages (from tensorflow) (1.19.5)\n",
      "Requirement already satisfied, skipping upgrade: termcolor~=1.1.0 in c:\\users\\stephen\\anaconda3\\lib\\site-packages (from tensorflow) (1.1.0)\n",
      "Requirement already satisfied, skipping upgrade: google-pasta~=0.2 in c:\\users\\stephen\\anaconda3\\lib\\site-packages (from tensorflow) (0.2.0)\n",
      "Requirement already satisfied, skipping upgrade: wrapt~=1.12.1 in c:\\users\\stephen\\appdata\\roaming\\python\\python38\\site-packages (from tensorflow) (1.12.1)\n",
      "Requirement already satisfied, skipping upgrade: opt-einsum~=3.3.0 in c:\\users\\stephen\\anaconda3\\lib\\site-packages (from tensorflow) (3.3.0)\n",
      "Requirement already satisfied, skipping upgrade: gast==0.3.3 in c:\\users\\stephen\\anaconda3\\lib\\site-packages (from tensorflow) (0.3.3)\n",
      "Requirement already satisfied, skipping upgrade: flatbuffers~=1.12.0 in c:\\users\\stephen\\anaconda3\\lib\\site-packages (from tensorflow) (1.12)\n",
      "Requirement already satisfied, skipping upgrade: absl-py~=0.10 in c:\\users\\stephen\\anaconda3\\lib\\site-packages (from tensorflow) (0.11.0)\n",
      "Requirement already satisfied, skipping upgrade: six~=1.15.0 in c:\\users\\stephen\\appdata\\roaming\\python\\python38\\site-packages (from tensorflow) (1.15.0)\n",
      "Requirement already satisfied, skipping upgrade: grpcio~=1.32.0 in c:\\users\\stephen\\anaconda3\\lib\\site-packages (from tensorflow) (1.32.0)\n",
      "Requirement already satisfied, skipping upgrade: tensorflow-estimator<2.5.0,>=2.4.0 in c:\\users\\stephen\\anaconda3\\lib\\site-packages (from tensorflow) (2.4.0)\n",
      "Requirement already satisfied, skipping upgrade: protobuf>=3.9.2 in c:\\users\\stephen\\anaconda3\\lib\\site-packages (from tensorflow) (3.14.0)\n",
      "Requirement already satisfied, skipping upgrade: wheel~=0.35 in c:\\users\\stephen\\anaconda3\\lib\\site-packages (from tensorflow) (0.36.2)\n",
      "Requirement already satisfied, skipping upgrade: typing-extensions~=3.7.4 in c:\\users\\stephen\\anaconda3\\lib\\site-packages (from tensorflow) (3.7.4.2)\n",
      "Requirement already satisfied, skipping upgrade: tensorboard~=2.4 in c:\\users\\stephen\\anaconda3\\lib\\site-packages (from tensorflow) (2.4.1)\n",
      "Requirement already satisfied, skipping upgrade: h5py~=2.10.0 in c:\\users\\stephen\\anaconda3\\lib\\site-packages (from tensorflow) (2.10.0)\n",
      "Requirement already satisfied, skipping upgrade: setuptools>=41.0.0 in c:\\users\\stephen\\anaconda3\\lib\\site-packages (from tensorboard~=2.4->tensorflow) (49.2.0.post20200714)\n",
      "Requirement already satisfied, skipping upgrade: tensorboard-plugin-wit>=1.6.0 in c:\\users\\stephen\\anaconda3\\lib\\site-packages (from tensorboard~=2.4->tensorflow) (1.8.0)\n",
      "Requirement already satisfied, skipping upgrade: werkzeug>=0.11.15 in c:\\users\\stephen\\anaconda3\\lib\\site-packages (from tensorboard~=2.4->tensorflow) (1.0.1)\n",
      "Requirement already satisfied, skipping upgrade: google-auth-oauthlib<0.5,>=0.4.1 in c:\\users\\stephen\\anaconda3\\lib\\site-packages (from tensorboard~=2.4->tensorflow) (0.4.2)\n",
      "Requirement already satisfied, skipping upgrade: requests<3,>=2.21.0 in c:\\users\\stephen\\anaconda3\\lib\\site-packages (from tensorboard~=2.4->tensorflow) (2.24.0)\n",
      "Requirement already satisfied, skipping upgrade: markdown>=2.6.8 in c:\\users\\stephen\\anaconda3\\lib\\site-packages (from tensorboard~=2.4->tensorflow) (3.3.3)\n",
      "Requirement already satisfied, skipping upgrade: google-auth<2,>=1.6.3 in c:\\users\\stephen\\anaconda3\\lib\\site-packages (from tensorboard~=2.4->tensorflow) (1.24.0)\n",
      "Requirement already satisfied, skipping upgrade: requests-oauthlib>=0.7.0 in c:\\users\\stephen\\anaconda3\\lib\\site-packages (from google-auth-oauthlib<0.5,>=0.4.1->tensorboard~=2.4->tensorflow) (1.3.0)\n",
      "Requirement already satisfied, skipping upgrade: urllib3!=1.25.0,!=1.25.1,<1.26,>=1.21.1 in c:\\users\\stephen\\anaconda3\\lib\\site-packages (from requests<3,>=2.21.0->tensorboard~=2.4->tensorflow) (1.25.9)\n",
      "Requirement already satisfied, skipping upgrade: certifi>=2017.4.17 in c:\\users\\stephen\\anaconda3\\lib\\site-packages (from requests<3,>=2.21.0->tensorboard~=2.4->tensorflow) (2020.6.20)\n",
      "Requirement already satisfied, skipping upgrade: idna<3,>=2.5 in c:\\users\\stephen\\anaconda3\\lib\\site-packages (from requests<3,>=2.21.0->tensorboard~=2.4->tensorflow) (2.10)\n",
      "Requirement already satisfied, skipping upgrade: chardet<4,>=3.0.2 in c:\\users\\stephen\\anaconda3\\lib\\site-packages (from requests<3,>=2.21.0->tensorboard~=2.4->tensorflow) (3.0.4)\n",
      "Requirement already satisfied, skipping upgrade: cachetools<5.0,>=2.0.0 in c:\\users\\stephen\\anaconda3\\lib\\site-packages (from google-auth<2,>=1.6.3->tensorboard~=2.4->tensorflow) (4.2.1)\n",
      "Requirement already satisfied, skipping upgrade: pyasn1-modules>=0.2.1 in c:\\users\\stephen\\anaconda3\\lib\\site-packages (from google-auth<2,>=1.6.3->tensorboard~=2.4->tensorflow) (0.2.8)\n",
      "Requirement already satisfied, skipping upgrade: rsa<5,>=3.1.4; python_version >= \"3.6\" in c:\\users\\stephen\\anaconda3\\lib\\site-packages (from google-auth<2,>=1.6.3->tensorboard~=2.4->tensorflow) (4.7)\n",
      "Requirement already satisfied, skipping upgrade: oauthlib>=3.0.0 in c:\\users\\stephen\\anaconda3\\lib\\site-packages (from requests-oauthlib>=0.7.0->google-auth-oauthlib<0.5,>=0.4.1->tensorboard~=2.4->tensorflow) (3.1.0)\n",
      "Requirement already satisfied, skipping upgrade: pyasn1<0.5.0,>=0.4.6 in c:\\users\\stephen\\anaconda3\\lib\\site-packages (from pyasn1-modules>=0.2.1->google-auth<2,>=1.6.3->tensorboard~=2.4->tensorflow) (0.4.8)\n"
     ]
    }
   ],
   "source": [
    "# Installs latest version of TensorFlow 2.X \n",
    "!pip install --upgrade tensorflow"
   ]
  },
  {
   "cell_type": "code",
   "execution_count": 3,
   "metadata": {},
   "outputs": [],
   "source": [
    "# Import our dependencies\n",
    "import pandas as pd\n",
    "import matplotlib as plt\n",
    "from sklearn.datasets import make_blobs\n",
    "import sklearn as skl\n",
    "import tensorflow as tf"
   ]
  },
  {
   "cell_type": "code",
   "execution_count": 4,
   "metadata": {},
   "outputs": [],
   "source": [
    "# Generate dummy dataset using make_blobs.\n",
    "# Use to create sample values and contains many parameters\n",
    "X, y = make_blobs(n_samples=1000, centers=2, n_features=2, random_state=78)"
   ]
  },
  {
   "cell_type": "code",
   "execution_count": 5,
   "metadata": {},
   "outputs": [],
   "source": [
    "# Creating a DataFrame with the dummy data\n",
    "df = pd.DataFrame(X, columns=[\"Feature 1\", \"Feature 2\"])\n",
    "df[\"Target\"] = y"
   ]
  },
  {
   "cell_type": "code",
   "execution_count": 6,
   "metadata": {},
   "outputs": [
    {
     "data": {
      "text/plain": [
       "<matplotlib.axes._subplots.AxesSubplot at 0x1f4e2d83808>"
      ]
     },
     "execution_count": 6,
     "metadata": {},
     "output_type": "execute_result"
    },
    {
     "data": {
      "image/png": "[encoded data removed]",
      "text/plain": [
       "<Figure size 432x288 with 2 Axes>"
      ]
     },
     "metadata": {
      "needs_background": "light"
     },
     "output_type": "display_data"
    }
   ],
   "source": [
    "# Plotting the dummy data\n",
    "df.plot.scatter(x=\"Feature 1\", y=\"Feature 2\", c=\"Target\", colormap=\"winter\")"
   ]
  },
  {
   "cell_type": "code",
   "execution_count": 7,
   "metadata": {},
   "outputs": [],
   "source": [
    "# Use sklearn to split dataset\n",
    "from sklearn.model_selection import train_test_split\n",
    "X_train, X_test, y_train, y_test = train_test_split(X, y, random_state=78)"
   ]
  },
  {
   "cell_type": "code",
   "execution_count": 8,
   "metadata": {},
   "outputs": [],
   "source": [
    "# Create scaler instance\n",
    "X_scaler = skl.preprocessing.StandardScaler()"
   ]
  },
  {
   "cell_type": "code",
   "execution_count": 9,
   "metadata": {},
   "outputs": [
    {
     "data": {
      "text/plain": [
       "StandardScaler()"
      ]
     },
     "execution_count": 9,
     "metadata": {},
     "output_type": "execute_result"
    }
   ],
   "source": [
    "# Fit the scaler\n",
    "X_scaler.fit(X_train)"
   ]
  },
  {
   "cell_type": "code",
   "execution_count": 10,
   "metadata": {},
   "outputs": [],
   "source": [
    "# Scale the data\n",
    "X_train_scaled = X_scaler.transform(X_train)\n",
    "X_test_scaled = X_scaler.transform(X_test)"
   ]
  },
  {
   "cell_type": "code",
   "execution_count": 11,
   "metadata": {},
   "outputs": [],
   "source": [
    "# Create the Keras Sequential model (This will store the entire architecture of our neural network model.)\n",
    "nn_model = tf.keras.models.Sequential()"
   ]
  },
  {
   "cell_type": "code",
   "execution_count": 12,
   "metadata": {},
   "outputs": [],
   "source": [
    "# Add our first Dense layer, including the input layer\n",
    "# input_dim indicates how many inputs will be in the model.\n",
    "# units indicates how many neurons we want in the hidden layer.\n",
    "# activation indicates which activation function to you.  relu allows hidden layer to identify and train on nonlinear relationships\n",
    "nn_model.add(tf.keras.layers.Dense(units=1, activation=\"relu\", input_dim=2))"
   ]
  },
  {
   "cell_type": "code",
   "execution_count": 13,
   "metadata": {},
   "outputs": [],
   "source": [
    "# Add the output layer that uses a probability activation function\n",
    "nn_model.add(tf.keras.layers.Dense(units=1, activation=\"sigmoid\"))"
   ]
  },
  {
   "cell_type": "code",
   "execution_count": 14,
   "metadata": {},
   "outputs": [
    {
     "name": "stdout",
     "output_type": "stream",
     "text": [
      "Model: \"sequential\"\n",
      "_________________________________________________________________\n",
      "Layer (type)                 Output Shape              Param #   \n",
      "=================================================================\n",
      "dense (Dense)                (None, 1)                 3         \n",
      "_________________________________________________________________\n",
      "dense_1 (Dense)              (None, 1)                 2         \n",
      "=================================================================\n",
      "Total params: 5\n",
      "Trainable params: 5\n",
      "Non-trainable params: 0\n",
      "_________________________________________________________________\n"
     ]
    }
   ],
   "source": [
    "# Check the structure of the Sequential model\n",
    "nn_model.summary()"
   ]
  },
  {
   "cell_type": "code",
   "execution_count": 15,
   "metadata": {},
   "outputs": [],
   "source": [
    "# Compile the Sequential model together and customize metrics\n",
    "# loss is loss metric: used to score performance of the model through iteration\n",
    "# optimizer shapes and molds network so that it performs to the best of its ability.\n",
    "# metric is evaluation metric (either accuracy or mse)\n",
    "nn_model.compile(loss=\"binary_crossentropy\", optimizer=\"adam\", metrics=[\"accuracy\"])"
   ]
  },
  {
   "cell_type": "code",
   "execution_count": 17,
   "metadata": {},
   "outputs": [
    {
     "name": "stdout",
     "output_type": "stream",
     "text": [
      "Epoch 1/100\n",
      "24/24 [==============================] - 0s 564us/step - loss: 0.1527 - accuracy: 0.9787\n",
      "Epoch 2/100\n",
      "24/24 [==============================] - 0s 650us/step - loss: 0.1493 - accuracy: 0.9800\n",
      "Epoch 3/100\n",
      "24/24 [==============================] - 0s 564us/step - loss: 0.1459 - accuracy: 0.9813\n",
      "Epoch 4/100\n",
      "24/24 [==============================] - 0s 607us/step - loss: 0.1426 - accuracy: 0.9827\n",
      "Epoch 5/100\n",
      "24/24 [==============================] - 0s 520us/step - loss: 0.1394 - accuracy: 0.9827\n",
      "Epoch 6/100\n",
      "24/24 [==============================] - 0s 607us/step - loss: 0.1364 - accuracy: 0.9827\n",
      "Epoch 7/100\n",
      "24/24 [==============================] - 0s 607us/step - loss: 0.1334 - accuracy: 0.9840\n",
      "Epoch 8/100\n",
      "24/24 [==============================] - 0s 520us/step - loss: 0.1304 - accuracy: 0.9853\n",
      "Epoch 9/100\n",
      "24/24 [==============================] - 0s 609us/step - loss: 0.1274 - accuracy: 0.9853\n",
      "Epoch 10/100\n",
      "24/24 [==============================] - 0s 650us/step - loss: 0.1245 - accuracy: 0.9867\n",
      "Epoch 11/100\n",
      "24/24 [==============================] - 0s 607us/step - loss: 0.1216 - accuracy: 0.9880\n",
      "Epoch 12/100\n",
      "24/24 [==============================] - 0s 650us/step - loss: 0.1189 - accuracy: 0.9880\n",
      "Epoch 13/100\n",
      "24/24 [==============================] - 0s 650us/step - loss: 0.1163 - accuracy: 0.9880\n",
      "Epoch 14/100\n",
      "24/24 [==============================] - 0s 564us/step - loss: 0.1137 - accuracy: 0.9880\n",
      "Epoch 15/100\n",
      "24/24 [==============================] - 0s 564us/step - loss: 0.1112 - accuracy: 0.9880\n",
      "Epoch 16/100\n",
      "24/24 [==============================] - ETA: 0s - loss: 0.1083 - accuracy: 1.00 - 0s 650us/step - loss: 0.1089 - accuracy: 0.9893\n",
      "Epoch 17/100\n",
      "24/24 [==============================] - 0s 607us/step - loss: 0.1065 - accuracy: 0.9920\n",
      "Epoch 18/100\n",
      "24/24 [==============================] - 0s 607us/step - loss: 0.1042 - accuracy: 0.9920\n",
      "Epoch 19/100\n",
      "24/24 [==============================] - 0s 607us/step - loss: 0.1020 - accuracy: 0.9920\n",
      "Epoch 20/100\n",
      "24/24 [==============================] - 0s 564us/step - loss: 0.0999 - accuracy: 0.9920\n",
      "Epoch 21/100\n",
      "24/24 [==============================] - 0s 607us/step - loss: 0.0978 - accuracy: 0.9920\n",
      "Epoch 22/100\n",
      "24/24 [==============================] - 0s 607us/step - loss: 0.0958 - accuracy: 0.9920\n",
      "Epoch 23/100\n",
      "24/24 [==============================] - 0s 650us/step - loss: 0.0938 - accuracy: 0.9920\n",
      "Epoch 24/100\n",
      "24/24 [==============================] - 0s 694us/step - loss: 0.0919 - accuracy: 0.9920\n",
      "Epoch 25/100\n",
      "24/24 [==============================] - 0s 650us/step - loss: 0.0901 - accuracy: 0.9920\n",
      "Epoch 26/100\n",
      "24/24 [==============================] - 0s 650us/step - loss: 0.0883 - accuracy: 0.9920\n",
      "Epoch 27/100\n",
      "24/24 [==============================] - 0s 564us/step - loss: 0.0865 - accuracy: 0.9920\n",
      "Epoch 28/100\n",
      "24/24 [==============================] - 0s 650us/step - loss: 0.0848 - accuracy: 0.9933\n",
      "Epoch 29/100\n",
      "24/24 [==============================] - 0s 650us/step - loss: 0.0832 - accuracy: 0.9933\n",
      "Epoch 30/100\n",
      "24/24 [==============================] - 0s 564us/step - loss: 0.0816 - accuracy: 0.9933\n",
      "Epoch 31/100\n",
      "24/24 [==============================] - 0s 564us/step - loss: 0.0800 - accuracy: 0.9933\n",
      "Epoch 32/100\n",
      "24/24 [==============================] - 0s 564us/step - loss: 0.0785 - accuracy: 0.9933\n",
      "Epoch 33/100\n",
      "24/24 [==============================] - 0s 607us/step - loss: 0.0770 - accuracy: 0.9933\n",
      "Epoch 34/100\n",
      "24/24 [==============================] - 0s 564us/step - loss: 0.0756 - accuracy: 0.9960\n",
      "Epoch 35/100\n",
      "24/24 [==============================] - 0s 564us/step - loss: 0.0742 - accuracy: 0.9960\n",
      "Epoch 36/100\n",
      "24/24 [==============================] - 0s 650us/step - loss: 0.0728 - accuracy: 0.9973\n",
      "Epoch 37/100\n",
      "24/24 [==============================] - 0s 564us/step - loss: 0.0715 - accuracy: 0.9973\n",
      "Epoch 38/100\n",
      "24/24 [==============================] - 0s 564us/step - loss: 0.0702 - accuracy: 1.0000\n",
      "Epoch 39/100\n",
      "24/24 [==============================] - 0s 520us/step - loss: 0.0689 - accuracy: 1.0000\n",
      "Epoch 40/100\n",
      "24/24 [==============================] - 0s 564us/step - loss: 0.0677 - accuracy: 1.0000\n",
      "Epoch 41/100\n",
      "24/24 [==============================] - 0s 564us/step - loss: 0.0664 - accuracy: 1.0000\n",
      "Epoch 42/100\n",
      "24/24 [==============================] - 0s 737us/step - loss: 0.0653 - accuracy: 1.0000\n",
      "Epoch 43/100\n",
      "24/24 [==============================] - 0s 867us/step - loss: 0.0641 - accuracy: 1.0000\n",
      "Epoch 44/100\n",
      "24/24 [==============================] - 0s 780us/step - loss: 0.0630 - accuracy: 1.0000\n",
      "Epoch 45/100\n",
      "24/24 [==============================] - 0s 737us/step - loss: 0.0619 - accuracy: 1.0000\n",
      "Epoch 46/100\n",
      "24/24 [==============================] - 0s 694us/step - loss: 0.0609 - accuracy: 1.0000\n",
      "Epoch 47/100\n",
      "24/24 [==============================] - 0s 607us/step - loss: 0.0598 - accuracy: 1.0000\n",
      "Epoch 48/100\n",
      "24/24 [==============================] - 0s 737us/step - loss: 0.0588 - accuracy: 1.0000\n",
      "Epoch 49/100\n",
      "24/24 [==============================] - 0s 650us/step - loss: 0.0579 - accuracy: 1.0000\n",
      "Epoch 50/100\n",
      "24/24 [==============================] - 0s 607us/step - loss: 0.0569 - accuracy: 1.0000\n",
      "Epoch 51/100\n",
      "24/24 [==============================] - 0s 564us/step - loss: 0.0560 - accuracy: 1.0000\n",
      "Epoch 52/100\n",
      "24/24 [==============================] - 0s 607us/step - loss: 0.0550 - accuracy: 1.0000\n",
      "Epoch 53/100\n",
      "24/24 [==============================] - 0s 564us/step - loss: 0.0542 - accuracy: 1.0000\n",
      "Epoch 54/100\n",
      "24/24 [==============================] - 0s 650us/step - loss: 0.0533 - accuracy: 1.0000\n",
      "Epoch 55/100\n",
      "24/24 [==============================] - 0s 650us/step - loss: 0.0524 - accuracy: 1.0000\n",
      "Epoch 56/100\n",
      "24/24 [==============================] - 0s 694us/step - loss: 0.0516 - accuracy: 1.0000\n",
      "Epoch 57/100\n",
      "24/24 [==============================] - 0s 607us/step - loss: 0.0508 - accuracy: 1.0000\n",
      "Epoch 58/100\n",
      "24/24 [==============================] - 0s 564us/step - loss: 0.0500 - accuracy: 1.0000\n",
      "Epoch 59/100\n",
      "24/24 [==============================] - 0s 607us/step - loss: 0.0492 - accuracy: 1.0000\n",
      "Epoch 60/100\n",
      "24/24 [==============================] - 0s 564us/step - loss: 0.0485 - accuracy: 1.0000\n",
      "Epoch 61/100\n",
      "24/24 [==============================] - 0s 564us/step - loss: 0.0477 - accuracy: 1.0000\n",
      "Epoch 62/100\n",
      "24/24 [==============================] - 0s 564us/step - loss: 0.0470 - accuracy: 1.0000\n",
      "Epoch 63/100\n",
      "24/24 [==============================] - 0s 564us/step - loss: 0.0463 - accuracy: 1.0000\n",
      "Epoch 64/100\n",
      "24/24 [==============================] - 0s 564us/step - loss: 0.0456 - accuracy: 1.0000\n",
      "Epoch 65/100\n",
      "24/24 [==============================] - 0s 607us/step - loss: 0.0449 - accuracy: 1.0000\n",
      "Epoch 66/100\n",
      "24/24 [==============================] - 0s 564us/step - loss: 0.0442 - accuracy: 1.0000\n",
      "Epoch 67/100\n",
      "24/24 [==============================] - 0s 607us/step - loss: 0.0436 - accuracy: 1.0000\n",
      "Epoch 68/100\n",
      "24/24 [==============================] - 0s 607us/step - loss: 0.0429 - accuracy: 1.0000\n",
      "Epoch 69/100\n",
      "24/24 [==============================] - 0s 607us/step - loss: 0.0423 - accuracy: 1.0000\n",
      "Epoch 70/100\n",
      "24/24 [==============================] - 0s 607us/step - loss: 0.0417 - accuracy: 1.0000\n",
      "Epoch 71/100\n",
      "24/24 [==============================] - 0s 564us/step - loss: 0.0411 - accuracy: 1.0000\n",
      "Epoch 72/100\n",
      "24/24 [==============================] - 0s 650us/step - loss: 0.0405 - accuracy: 1.0000\n",
      "Epoch 73/100\n",
      "24/24 [==============================] - 0s 564us/step - loss: 0.0399 - accuracy: 1.0000\n",
      "Epoch 74/100\n",
      "24/24 [==============================] - 0s 607us/step - loss: 0.0393 - accuracy: 1.0000\n",
      "Epoch 75/100\n",
      "24/24 [==============================] - 0s 607us/step - loss: 0.0388 - accuracy: 1.0000\n",
      "Epoch 76/100\n",
      "24/24 [==============================] - 0s 564us/step - loss: 0.0382 - accuracy: 1.0000\n",
      "Epoch 77/100\n",
      "24/24 [==============================] - 0s 564us/step - loss: 0.0377 - accuracy: 1.0000\n",
      "Epoch 78/100\n",
      "24/24 [==============================] - 0s 520us/step - loss: 0.0372 - accuracy: 1.0000\n",
      "Epoch 79/100\n",
      "24/24 [==============================] - 0s 564us/step - loss: 0.0367 - accuracy: 1.0000\n",
      "Epoch 80/100\n",
      "24/24 [==============================] - 0s 607us/step - loss: 0.0362 - accuracy: 1.0000\n",
      "Epoch 81/100\n",
      "24/24 [==============================] - 0s 607us/step - loss: 0.0357 - accuracy: 1.0000\n",
      "Epoch 82/100\n",
      "24/24 [==============================] - 0s 520us/step - loss: 0.0352 - accuracy: 1.0000\n",
      "Epoch 83/100\n",
      "24/24 [==============================] - 0s 564us/step - loss: 0.0347 - accuracy: 1.0000\n",
      "Epoch 84/100\n",
      "24/24 [==============================] - 0s 607us/step - loss: 0.0342 - accuracy: 1.0000\n",
      "Epoch 85/100\n",
      "24/24 [==============================] - 0s 520us/step - loss: 0.0338 - accuracy: 1.0000\n",
      "Epoch 86/100\n",
      "24/24 [==============================] - 0s 520us/step - loss: 0.0333 - accuracy: 1.0000\n",
      "Epoch 87/100\n",
      "24/24 [==============================] - 0s 607us/step - loss: 0.0329 - accuracy: 1.0000\n",
      "Epoch 88/100\n",
      "24/24 [==============================] - 0s 607us/step - loss: 0.0324 - accuracy: 1.0000\n",
      "Epoch 89/100\n",
      "24/24 [==============================] - 0s 607us/step - loss: 0.0320 - accuracy: 1.0000\n",
      "Epoch 90/100\n",
      "24/24 [==============================] - 0s 564us/step - loss: 0.0316 - accuracy: 1.0000\n",
      "Epoch 91/100\n",
      "24/24 [==============================] - 0s 564us/step - loss: 0.0312 - accuracy: 1.0000\n",
      "Epoch 92/100\n",
      "24/24 [==============================] - 0s 564us/step - loss: 0.0308 - accuracy: 1.0000\n",
      "Epoch 93/100\n",
      "24/24 [==============================] - 0s 564us/step - loss: 0.0304 - accuracy: 1.0000\n",
      "Epoch 94/100\n",
      "24/24 [==============================] - 0s 564us/step - loss: 0.0300 - accuracy: 1.0000\n",
      "Epoch 95/100\n",
      "24/24 [==============================] - 0s 607us/step - loss: 0.0296 - accuracy: 1.0000\n",
      "Epoch 96/100\n",
      "24/24 [==============================] - 0s 520us/step - loss: 0.0292 - accuracy: 1.0000\n",
      "Epoch 97/100\n",
      "24/24 [==============================] - 0s 520us/step - loss: 0.0288 - accuracy: 1.0000\n",
      "Epoch 98/100\n",
      "24/24 [==============================] - 0s 564us/step - loss: 0.0285 - accuracy: 1.0000\n",
      "Epoch 99/100\n",
      "24/24 [==============================] - 0s 564us/step - loss: 0.0281 - accuracy: 1.0000\n",
      "Epoch 100/100\n",
      "24/24 [==============================] - 0s 737us/step - loss: 0.0277 - accuracy: 1.0000\n"
     ]
    }
   ],
   "source": [
    "# Fit the model to the training data\n",
    "fit_model = nn_model.fit(X_train_scaled, y_train, epochs=100)"
   ]
  },
  {
   "cell_type": "code",
   "execution_count": 18,
   "metadata": {},
   "outputs": [],
   "source": [
    "# Create a DataFrame containing training history\n",
    "history_df = pd.DataFrame(fit_model.history, index=range(1,len(fit_model.history[\"loss\"])+1))"
   ]
  },
  {
   "cell_type": "code",
   "execution_count": 19,
   "metadata": {},
   "outputs": [
    {
     "data": {
      "text/plain": [
       "<matplotlib.axes._subplots.AxesSubplot at 0x1f4ea3dca88>"
      ]
     },
     "execution_count": 19,
     "metadata": {},
     "output_type": "execute_result"
    },
    {
     "data": {
      "image/png": "[encoded data removed]",
      "text/plain": [
       "<Figure size 432x288 with 1 Axes>"
      ]
     },
     "metadata": {
      "needs_background": "light"
     },
     "output_type": "display_data"
    }
   ],
   "source": [
    "# Plot the loss\n",
    "history_df.plot(y=\"loss\")"
   ]
  },
  {
   "cell_type": "code",
   "execution_count": 20,
   "metadata": {},
   "outputs": [
    {
     "data": {
      "text/plain": [
       "<matplotlib.axes._subplots.AxesSubplot at 0x1f4ea3e89c8>"
      ]
     },
     "execution_count": 20,
     "metadata": {},
     "output_type": "execute_result"
    },
    {
     "data": {
      "image/png": "[encoded data removed]",
      "text/plain": [
       "<Figure size 432x288 with 1 Axes>"
      ]
     },
     "metadata": {
      "needs_background": "light"
     },
     "output_type": "display_data"
    }
   ],
   "source": [
    "# Plot the accuracy\n",
    "history_df.plot(y=\"accuracy\")"
   ]
  },
  {
   "cell_type": "code",
   "execution_count": 21,
   "metadata": {},
   "outputs": [
    {
     "name": "stdout",
     "output_type": "stream",
     "text": [
      "8/8 - 0s - loss: 0.0254 - accuracy: 1.0000\n",
      "Loss: 0.025441981852054596, Accuracy: 1.0\n"
     ]
    }
   ],
   "source": [
    "# Evaluate the model using the test data\n",
    "model_loss, model_accuracy = nn_model.evaluate(X_test_scaled,y_test,verbose=2)\n",
    "print(f\"Loss: {model_loss}, Accuracy: {model_accuracy}\")"
   ]
  },
  {
   "cell_type": "code",
   "execution_count": 22,
   "metadata": {},
   "outputs": [
    {
     "data": {
      "text/plain": [
       "array([[0],\n",
       "       [1],\n",
       "       [0],\n",
       "       [1],\n",
       "       [0],\n",
       "       [0],\n",
       "       [1],\n",
       "       [1],\n",
       "       [1],\n",
       "       [0]])"
      ]
     },
     "execution_count": 22,
     "metadata": {},
     "output_type": "execute_result"
    }
   ],
   "source": [
    "# Predict the classification of a new set of blob data\n",
    "new_X, new_Y = make_blobs(n_samples=10, centers=2, n_features=2, random_state=78)\n",
    "new_X_scaled = X_scaler.transform(new_X)\n",
    "(nn_model.predict(new_X_scaled) > 0.5).astype(\"int32\")"
   ]
  },
  {
   "cell_type": "code",
   "execution_count": 23,
   "metadata": {},
   "outputs": [],
   "source": [
    "# import make_moons which generates nonlinear moon shaped data.\n",
    "from sklearn.datasets import make_moons"
   ]
  },
  {
   "cell_type": "code",
   "execution_count": 24,
   "metadata": {},
   "outputs": [],
   "source": [
    "# Creating dummy nonlinear data\n",
    "X_moons, y_moons = make_moons(n_samples=1000, noise=0.08, random_state=78)"
   ]
  },
  {
   "cell_type": "code",
   "execution_count": 25,
   "metadata": {},
   "outputs": [],
   "source": [
    "# Transforming y_moons to a vertical vector\n",
    "y_moons = y_moons.reshape(-1, 1)"
   ]
  },
  {
   "cell_type": "code",
   "execution_count": 26,
   "metadata": {},
   "outputs": [],
   "source": [
    "# Creating a DataFrame to plot the nonlinear dummy data\n",
    "df_moons = pd.DataFrame(X_moons, columns=[\"Feature 1\", \"Feature 2\"])\n",
    "df_moons[\"Target\"] = y_moons"
   ]
  },
  {
   "cell_type": "code",
   "execution_count": 27,
   "metadata": {},
   "outputs": [
    {
     "data": {
      "text/plain": [
       "<matplotlib.axes._subplots.AxesSubplot at 0x1f4eb5dba48>"
      ]
     },
     "execution_count": 27,
     "metadata": {},
     "output_type": "execute_result"
    },
    {
     "data": {
      "image/png": "[encoded data removed]",
      "text/plain": [
       "<Figure size 432x288 with 2 Axes>"
      ]
     },
     "metadata": {
      "needs_background": "light"
     },
     "output_type": "display_data"
    }
   ],
   "source": [
    "# Plot the nonlinear dummy data\n",
    "df_moons.plot.scatter(x=\"Feature 1\",y=\"Feature 2\", c=\"Target\",colormap=\"winter\")"
   ]
  },
  {
   "cell_type": "code",
   "execution_count": 28,
   "metadata": {},
   "outputs": [],
   "source": [
    "# Create training and testing sets\n",
    "X_moon_train, X_moon_test, y_moon_train, y_moon_test = train_test_split(\n",
    "    X_moons, y_moons, random_state=78\n",
    ")\n"
   ]
  },
  {
   "cell_type": "code",
   "execution_count": 29,
   "metadata": {},
   "outputs": [],
   "source": [
    "# Create the scaler instance\n",
    "X_moon_scaler = skl.preprocessing.StandardScaler()"
   ]
  },
  {
   "cell_type": "code",
   "execution_count": 30,
   "metadata": {},
   "outputs": [
    {
     "data": {
      "text/plain": [
       "StandardScaler()"
      ]
     },
     "execution_count": 30,
     "metadata": {},
     "output_type": "execute_result"
    }
   ],
   "source": [
    "# Fit the scaler\n",
    "X_moon_scaler.fit(X_moon_train)"
   ]
  },
  {
   "cell_type": "code",
   "execution_count": 31,
   "metadata": {},
   "outputs": [],
   "source": [
    "# Scale the data\n",
    "X_moon_train_scaled = X_moon_scaler.transform(X_moon_train)\n",
    "X_moon_test_scaled = X_moon_scaler.transform(X_moon_test)"
   ]
  },
  {
   "cell_type": "code",
   "execution_count": 32,
   "metadata": {},
   "outputs": [
    {
     "name": "stdout",
     "output_type": "stream",
     "text": [
      "Epoch 1/100\n",
      "24/24 [==============================] - 0s 781us/step - loss: 1.4018 - accuracy: 0.4533\n",
      "Epoch 2/100\n",
      "24/24 [==============================] - 0s 911us/step - loss: 1.1958 - accuracy: 0.4920\n",
      "Epoch 3/100\n",
      "24/24 [==============================] - 0s 781us/step - loss: 1.0662 - accuracy: 0.5120\n",
      "Epoch 4/100\n",
      "24/24 [==============================] - 0s 911us/step - loss: 0.9802 - accuracy: 0.5387\n",
      "Epoch 5/100\n",
      "24/24 [==============================] - 0s 867us/step - loss: 0.9117 - accuracy: 0.5600\n",
      "Epoch 6/100\n",
      "24/24 [==============================] - 0s 867us/step - loss: 0.8552 - accuracy: 0.5720\n",
      "Epoch 7/100\n",
      "24/24 [==============================] - 0s 954us/step - loss: 0.8052 - accuracy: 0.5853\n",
      "Epoch 8/100\n",
      "24/24 [==============================] - 0s 867us/step - loss: 0.7615 - accuracy: 0.5947\n",
      "Epoch 9/100\n",
      "24/24 [==============================] - 0s 911us/step - loss: 0.7204 - accuracy: 0.5987\n",
      "Epoch 10/100\n",
      "24/24 [==============================] - ETA: 0s - loss: 0.6989 - accuracy: 0.59 - 0s 824us/step - loss: 0.6843 - accuracy: 0.6107\n",
      "Epoch 11/100\n",
      "24/24 [==============================] - 0s 867us/step - loss: 0.6523 - accuracy: 0.6253\n",
      "Epoch 12/100\n",
      "24/24 [==============================] - 0s 867us/step - loss: 0.6234 - accuracy: 0.6347\n",
      "Epoch 13/100\n",
      "24/24 [==============================] - 0s 824us/step - loss: 0.5976 - accuracy: 0.6427\n",
      "Epoch 14/100\n",
      "24/24 [==============================] - 0s 954us/step - loss: 0.5739 - accuracy: 0.6520\n",
      "Epoch 15/100\n",
      "24/24 [==============================] - 0s 867us/step - loss: 0.5526 - accuracy: 0.6720\n",
      "Epoch 16/100\n",
      "24/24 [==============================] - 0s 911us/step - loss: 0.5329 - accuracy: 0.6813\n",
      "Epoch 17/100\n",
      "24/24 [==============================] - 0s 868us/step - loss: 0.5150 - accuracy: 0.6867\n",
      "Epoch 18/100\n",
      "24/24 [==============================] - 0s 911us/step - loss: 0.4982 - accuracy: 0.6920\n",
      "Epoch 19/100\n",
      "24/24 [==============================] - 0s 824us/step - loss: 0.4826 - accuracy: 0.7027\n",
      "Epoch 20/100\n",
      "24/24 [==============================] - 0s 911us/step - loss: 0.4681 - accuracy: 0.7133\n",
      "Epoch 21/100\n",
      "24/24 [==============================] - 0s 997us/step - loss: 0.4548 - accuracy: 0.7200\n",
      "Epoch 22/100\n",
      "24/24 [==============================] - 0s 867us/step - loss: 0.4421 - accuracy: 0.7280\n",
      "Epoch 23/100\n",
      "24/24 [==============================] - 0s 824us/step - loss: 0.4302 - accuracy: 0.7453\n",
      "Epoch 24/100\n",
      "24/24 [==============================] - 0s 911us/step - loss: 0.4191 - accuracy: 0.7507\n",
      "Epoch 25/100\n",
      "24/24 [==============================] - 0s 954us/step - loss: 0.4090 - accuracy: 0.7600\n",
      "Epoch 26/100\n",
      "24/24 [==============================] - 0s 953us/step - loss: 0.3990 - accuracy: 0.7693\n",
      "Epoch 27/100\n",
      "24/24 [==============================] - 0s 1ms/step - loss: 0.3898 - accuracy: 0.7760\n",
      "Epoch 28/100\n",
      "24/24 [==============================] - 0s 954us/step - loss: 0.3816 - accuracy: 0.7827\n",
      "Epoch 29/100\n",
      "24/24 [==============================] - 0s 997us/step - loss: 0.3736 - accuracy: 0.7867\n",
      "Epoch 30/100\n",
      "24/24 [==============================] - 0s 997us/step - loss: 0.3664 - accuracy: 0.7893\n",
      "Epoch 31/100\n",
      "24/24 [==============================] - 0s 954us/step - loss: 0.3598 - accuracy: 0.7933\n",
      "Epoch 32/100\n",
      "24/24 [==============================] - 0s 1ms/step - loss: 0.3535 - accuracy: 0.7987\n",
      "Epoch 33/100\n",
      "24/24 [==============================] - 0s 997us/step - loss: 0.3477 - accuracy: 0.8027\n",
      "Epoch 34/100\n",
      "24/24 [==============================] - 0s 2ms/step - loss: 0.3421 - accuracy: 0.8080\n",
      "Epoch 35/100\n",
      "24/24 [==============================] - 0s 1ms/step - loss: 0.3370 - accuracy: 0.8120\n",
      "Epoch 36/100\n",
      "24/24 [==============================] - 0s 1ms/step - loss: 0.3322 - accuracy: 0.8160\n",
      "Epoch 37/100\n",
      "24/24 [==============================] - 0s 1ms/step - loss: 0.3276 - accuracy: 0.8240\n",
      "Epoch 38/100\n",
      "24/24 [==============================] - 0s 954us/step - loss: 0.3234 - accuracy: 0.8307\n",
      "Epoch 39/100\n",
      "24/24 [==============================] - 0s 954us/step - loss: 0.3194 - accuracy: 0.8320\n",
      "Epoch 40/100\n",
      "24/24 [==============================] - 0s 1ms/step - loss: 0.3156 - accuracy: 0.8333\n",
      "Epoch 41/100\n",
      "24/24 [==============================] - 0s 954us/step - loss: 0.3120 - accuracy: 0.8387\n",
      "Epoch 42/100\n",
      "24/24 [==============================] - 0s 911us/step - loss: 0.3085 - accuracy: 0.8440\n",
      "Epoch 43/100\n",
      "24/24 [==============================] - 0s 997us/step - loss: 0.3054 - accuracy: 0.8467\n",
      "Epoch 44/100\n",
      "24/24 [==============================] - 0s 1ms/step - loss: 0.3024 - accuracy: 0.8480\n",
      "Epoch 45/100\n",
      "24/24 [==============================] - 0s 997us/step - loss: 0.2995 - accuracy: 0.8520\n",
      "Epoch 46/100\n",
      "24/24 [==============================] - 0s 954us/step - loss: 0.2969 - accuracy: 0.8520\n",
      "Epoch 47/100\n",
      "24/24 [==============================] - 0s 997us/step - loss: 0.2944 - accuracy: 0.8547\n",
      "Epoch 48/100\n",
      "24/24 [==============================] - 0s 954us/step - loss: 0.2921 - accuracy: 0.8560\n",
      "Epoch 49/100\n",
      "24/24 [==============================] - 0s 824us/step - loss: 0.2898 - accuracy: 0.8587\n",
      "Epoch 50/100\n",
      "24/24 [==============================] - 0s 997us/step - loss: 0.2878 - accuracy: 0.8627\n",
      "Epoch 51/100\n",
      "24/24 [==============================] - 0s 867us/step - loss: 0.2858 - accuracy: 0.8653\n",
      "Epoch 52/100\n",
      "24/24 [==============================] - 0s 911us/step - loss: 0.2839 - accuracy: 0.8653\n",
      "Epoch 53/100\n",
      "24/24 [==============================] - 0s 911us/step - loss: 0.2822 - accuracy: 0.8653\n",
      "Epoch 54/100\n",
      "24/24 [==============================] - 0s 954us/step - loss: 0.2805 - accuracy: 0.8680\n",
      "Epoch 55/100\n",
      "24/24 [==============================] - 0s 954us/step - loss: 0.2790 - accuracy: 0.8680\n",
      "Epoch 56/100\n",
      "24/24 [==============================] - 0s 1ms/step - loss: 0.2775 - accuracy: 0.8680\n",
      "Epoch 57/100\n",
      "24/24 [==============================] - 0s 997us/step - loss: 0.2762 - accuracy: 0.8680\n",
      "Epoch 58/100\n",
      "24/24 [==============================] - 0s 997us/step - loss: 0.2748 - accuracy: 0.8693\n",
      "Epoch 59/100\n",
      "24/24 [==============================] - 0s 997us/step - loss: 0.2736 - accuracy: 0.8707\n",
      "Epoch 60/100\n",
      "24/24 [==============================] - 0s 911us/step - loss: 0.2724 - accuracy: 0.8720\n",
      "Epoch 61/100\n",
      "24/24 [==============================] - 0s 911us/step - loss: 0.2713 - accuracy: 0.8760\n",
      "Epoch 62/100\n",
      "24/24 [==============================] - 0s 911us/step - loss: 0.2702 - accuracy: 0.8773\n",
      "Epoch 63/100\n",
      "24/24 [==============================] - 0s 1ms/step - loss: 0.2692 - accuracy: 0.8773\n",
      "Epoch 64/100\n",
      "24/24 [==============================] - 0s 780us/step - loss: 0.2682 - accuracy: 0.8773\n",
      "Epoch 65/100\n",
      "24/24 [==============================] - 0s 911us/step - loss: 0.2673 - accuracy: 0.8800\n",
      "Epoch 66/100\n",
      "24/24 [==============================] - 0s 780us/step - loss: 0.2665 - accuracy: 0.8827\n",
      "Epoch 67/100\n",
      "24/24 [==============================] - 0s 867us/step - loss: 0.2657 - accuracy: 0.8813\n",
      "Epoch 68/100\n",
      "24/24 [==============================] - 0s 911us/step - loss: 0.2649 - accuracy: 0.8827\n",
      "Epoch 69/100\n",
      "24/24 [==============================] - 0s 867us/step - loss: 0.2641 - accuracy: 0.8853\n",
      "Epoch 70/100\n",
      "24/24 [==============================] - 0s 824us/step - loss: 0.2635 - accuracy: 0.8853\n",
      "Epoch 71/100\n",
      "24/24 [==============================] - 0s 867us/step - loss: 0.2627 - accuracy: 0.8853\n",
      "Epoch 72/100\n",
      "24/24 [==============================] - 0s 911us/step - loss: 0.2621 - accuracy: 0.8867\n",
      "Epoch 73/100\n",
      "24/24 [==============================] - 0s 911us/step - loss: 0.2615 - accuracy: 0.8867\n",
      "Epoch 74/100\n",
      "24/24 [==============================] - 0s 867us/step - loss: 0.2609 - accuracy: 0.8880\n",
      "Epoch 75/100\n",
      "24/24 [==============================] - 0s 954us/step - loss: 0.2603 - accuracy: 0.8880\n",
      "Epoch 76/100\n",
      "24/24 [==============================] - 0s 997us/step - loss: 0.2599 - accuracy: 0.8893\n",
      "Epoch 77/100\n",
      "24/24 [==============================] - 0s 954us/step - loss: 0.2593 - accuracy: 0.8893\n",
      "Epoch 78/100\n",
      "24/24 [==============================] - 0s 824us/step - loss: 0.2589 - accuracy: 0.8920\n",
      "Epoch 79/100\n",
      "24/24 [==============================] - 0s 953us/step - loss: 0.2584 - accuracy: 0.8920\n",
      "Epoch 80/100\n",
      "24/24 [==============================] - 0s 911us/step - loss: 0.2579 - accuracy: 0.8920\n",
      "Epoch 81/100\n",
      "24/24 [==============================] - 0s 1ms/step - loss: 0.2575 - accuracy: 0.8920\n",
      "Epoch 82/100\n",
      "24/24 [==============================] - 0s 779us/step - loss: 0.2571 - accuracy: 0.8920\n",
      "Epoch 83/100\n",
      "24/24 [==============================] - 0s 867us/step - loss: 0.2567 - accuracy: 0.8920\n",
      "Epoch 84/100\n",
      "24/24 [==============================] - 0s 824us/step - loss: 0.2564 - accuracy: 0.8920\n",
      "Epoch 85/100\n",
      "24/24 [==============================] - 0s 824us/step - loss: 0.2561 - accuracy: 0.8920\n",
      "Epoch 86/100\n",
      "24/24 [==============================] - 0s 824us/step - loss: 0.2557 - accuracy: 0.8920\n",
      "Epoch 87/100\n",
      "24/24 [==============================] - 0s 867us/step - loss: 0.2554 - accuracy: 0.8920\n",
      "Epoch 88/100\n",
      "24/24 [==============================] - 0s 867us/step - loss: 0.2551 - accuracy: 0.8920\n",
      "Epoch 89/100\n",
      "24/24 [==============================] - 0s 867us/step - loss: 0.2547 - accuracy: 0.8933\n",
      "Epoch 90/100\n",
      "24/24 [==============================] - 0s 867us/step - loss: 0.2545 - accuracy: 0.8933\n",
      "Epoch 91/100\n",
      "24/24 [==============================] - 0s 1ms/step - loss: 0.2542 - accuracy: 0.8920\n",
      "Epoch 92/100\n",
      "24/24 [==============================] - 0s 911us/step - loss: 0.2539 - accuracy: 0.8920\n",
      "Epoch 93/100\n",
      "24/24 [==============================] - 0s 911us/step - loss: 0.2537 - accuracy: 0.8920\n",
      "Epoch 94/100\n",
      "24/24 [==============================] - 0s 911us/step - loss: 0.2535 - accuracy: 0.8920\n",
      "Epoch 95/100\n",
      "24/24 [==============================] - 0s 997us/step - loss: 0.2532 - accuracy: 0.8920\n",
      "Epoch 96/100\n",
      "24/24 [==============================] - 0s 1ms/step - loss: 0.2529 - accuracy: 0.8920\n",
      "Epoch 97/100\n",
      "24/24 [==============================] - 0s 911us/step - loss: 0.2529 - accuracy: 0.8920\n",
      "Epoch 98/100\n",
      "24/24 [==============================] - 0s 1ms/step - loss: 0.2525 - accuracy: 0.8920\n",
      "Epoch 99/100\n",
      "24/24 [==============================] - 0s 997us/step - loss: 0.2524 - accuracy: 0.8920\n",
      "Epoch 100/100\n",
      "24/24 [==============================] - 0s 997us/step - loss: 0.2522 - accuracy: 0.8920\n"
     ]
    }
   ],
   "source": [
    "# Training the model with the nonlinear data\n",
    "model_moon = nn_model.fit(X_moon_train_scaled, y_moon_train, epochs=100, shuffle=True)"
   ]
  },
  {
   "cell_type": "code",
   "execution_count": 33,
   "metadata": {},
   "outputs": [],
   "source": [
    "# Create a DataFrame containing training history\n",
    "history_df = pd.DataFrame(model_moon.history, index=range(1,len(model_moon.history[\"loss\"])+1))"
   ]
  },
  {
   "cell_type": "code",
   "execution_count": 34,
   "metadata": {},
   "outputs": [
    {
     "data": {
      "text/plain": [
       "<matplotlib.axes._subplots.AxesSubplot at 0x1f4eb6f1348>"
      ]
     },
     "execution_count": 34,
     "metadata": {},
     "output_type": "execute_result"
    },
    {
     "data": {
      "image/png": "[encoded data removed]",
      "text/plain": [
       "<Figure size 432x288 with 1 Axes>"
      ]
     },
     "metadata": {
      "needs_background": "light"
     },
     "output_type": "display_data"
    }
   ],
   "source": [
    "# Plot the loss\n",
    "history_df.plot(y=\"loss\")"
   ]
  },
  {
   "cell_type": "code",
   "execution_count": 35,
   "metadata": {},
   "outputs": [
    {
     "data": {
      "text/plain": [
       "<matplotlib.axes._subplots.AxesSubplot at 0x1f4e336e848>"
      ]
     },
     "execution_count": 35,
     "metadata": {},
     "output_type": "execute_result"
    },
    {
     "data": {
      "image/png": "[encoded data removed]",
      "text/plain": [
       "<Figure size 432x288 with 1 Axes>"
      ]
     },
     "metadata": {
      "needs_background": "light"
     },
     "output_type": "display_data"
    }
   ],
   "source": [
    "# Plot the loss\n",
    "history_df.plot(y=\"accuracy\")"
   ]
  },
  {
   "cell_type": "code",
   "execution_count": 36,
   "metadata": {},
   "outputs": [],
   "source": [
    "# Generate our new Sequential model\n",
    "new_model = tf.keras.models.Sequential()"
   ]
  },
  {
   "cell_type": "code",
   "execution_count": 39,
   "metadata": {},
   "outputs": [],
   "source": [
    "# Add the input and hidden layer\n",
    "number_inputs = 2\n",
    "number_hidden_nodes = 6\n",
    "\n",
    "new_model.add(tf.keras.layers.Dense(units=number_hidden_nodes, activation=\"relu\", input_dim=number_inputs))"
   ]
  },
  {
   "cell_type": "code",
   "execution_count": 40,
   "metadata": {},
   "outputs": [],
   "source": [
    "# Add the output layer that uses a probability activation function\n",
    "new_model.add(tf.keras.layers.Dense(units=1, activation=\"sigmoid\"))"
   ]
  },
  {
   "cell_type": "code",
   "execution_count": 41,
   "metadata": {},
   "outputs": [],
   "source": [
    "# Compile the Sequential model together and customize metrics\n",
    "new_model.compile(loss=\"binary_crossentropy\", optimizer=\"adam\", metrics=[\"accuracy\"])\n"
   ]
  },
  {
   "cell_type": "code",
   "execution_count": 42,
   "metadata": {},
   "outputs": [
    {
     "name": "stdout",
     "output_type": "stream",
     "text": [
      "Epoch 1/100\n",
      "24/24 [==============================] - 0s 564us/step - loss: 0.5790 - accuracy: 0.6382\n",
      "Epoch 2/100\n",
      "24/24 [==============================] - 0s 694us/step - loss: 0.5329 - accuracy: 0.6895\n",
      "Epoch 3/100\n",
      "24/24 [==============================] - 0s 564us/step - loss: 0.4923 - accuracy: 0.8859\n",
      "Epoch 4/100\n",
      "24/24 [==============================] - 0s 650us/step - loss: 0.4716 - accuracy: 0.8781\n",
      "Epoch 5/100\n",
      "24/24 [==============================] - 0s 650us/step - loss: 0.4639 - accuracy: 0.8839\n",
      "Epoch 6/100\n",
      "24/24 [==============================] - 0s 607us/step - loss: 0.4443 - accuracy: 0.8778\n",
      "Epoch 7/100\n",
      "24/24 [==============================] - 0s 650us/step - loss: 0.4185 - accuracy: 0.8919\n",
      "Epoch 8/100\n",
      "24/24 [==============================] - 0s 650us/step - loss: 0.4035 - accuracy: 0.8724\n",
      "Epoch 9/100\n",
      "24/24 [==============================] - 0s 650us/step - loss: 0.3979 - accuracy: 0.8619\n",
      "Epoch 10/100\n",
      "24/24 [==============================] - 0s 564us/step - loss: 0.3907 - accuracy: 0.8696\n",
      "Epoch 11/100\n",
      "24/24 [==============================] - 0s 650us/step - loss: 0.3585 - accuracy: 0.8933\n",
      "Epoch 12/100\n",
      "24/24 [==============================] - 0s 607us/step - loss: 0.3495 - accuracy: 0.8831\n",
      "Epoch 13/100\n",
      "24/24 [==============================] - 0s 650us/step - loss: 0.3369 - accuracy: 0.8810\n",
      "Epoch 14/100\n",
      "24/24 [==============================] - 0s 607us/step - loss: 0.3171 - accuracy: 0.8795\n",
      "Epoch 15/100\n",
      "24/24 [==============================] - 0s 694us/step - loss: 0.3176 - accuracy: 0.8677\n",
      "Epoch 16/100\n",
      "24/24 [==============================] - 0s 650us/step - loss: 0.3125 - accuracy: 0.8728\n",
      "Epoch 17/100\n",
      "24/24 [==============================] - 0s 650us/step - loss: 0.2824 - accuracy: 0.8871\n",
      "Epoch 18/100\n",
      "24/24 [==============================] - 0s 650us/step - loss: 0.2551 - accuracy: 0.8923\n",
      "Epoch 19/100\n",
      "24/24 [==============================] - 0s 737us/step - loss: 0.2749 - accuracy: 0.8781\n",
      "Epoch 20/100\n",
      "24/24 [==============================] - 0s 650us/step - loss: 0.2429 - accuracy: 0.8866\n",
      "Epoch 21/100\n",
      "24/24 [==============================] - 0s 823us/step - loss: 0.2534 - accuracy: 0.8821\n",
      "Epoch 22/100\n",
      "24/24 [==============================] - 0s 607us/step - loss: 0.2531 - accuracy: 0.8694\n",
      "Epoch 23/100\n",
      "24/24 [==============================] - 0s 650us/step - loss: 0.2080 - accuracy: 0.9052\n",
      "Epoch 24/100\n",
      "24/24 [==============================] - 0s 650us/step - loss: 0.2582 - accuracy: 0.8820\n",
      "Epoch 25/100\n",
      "24/24 [==============================] - 0s 607us/step - loss: 0.2469 - accuracy: 0.8838\n",
      "Epoch 26/100\n",
      "24/24 [==============================] - 0s 694us/step - loss: 0.2257 - accuracy: 0.8952\n",
      "Epoch 27/100\n",
      "24/24 [==============================] - 0s 607us/step - loss: 0.2412 - accuracy: 0.8902\n",
      "Epoch 28/100\n",
      "24/24 [==============================] - 0s 650us/step - loss: 0.2327 - accuracy: 0.8994\n",
      "Epoch 29/100\n",
      "24/24 [==============================] - 0s 607us/step - loss: 0.2702 - accuracy: 0.8767\n",
      "Epoch 30/100\n",
      "24/24 [==============================] - 0s 607us/step - loss: 0.2490 - accuracy: 0.8855\n",
      "Epoch 31/100\n",
      "24/24 [==============================] - 0s 694us/step - loss: 0.2501 - accuracy: 0.8791\n",
      "Epoch 32/100\n",
      "24/24 [==============================] - 0s 737us/step - loss: 0.2258 - accuracy: 0.8940\n",
      "Epoch 33/100\n",
      "24/24 [==============================] - 0s 737us/step - loss: 0.2284 - accuracy: 0.9038\n",
      "Epoch 34/100\n",
      "24/24 [==============================] - 0s 737us/step - loss: 0.2246 - accuracy: 0.8923\n",
      "Epoch 35/100\n",
      "24/24 [==============================] - 0s 694us/step - loss: 0.2475 - accuracy: 0.8866\n",
      "Epoch 36/100\n",
      "24/24 [==============================] - 0s 650us/step - loss: 0.2217 - accuracy: 0.8946\n",
      "Epoch 37/100\n",
      "24/24 [==============================] - 0s 650us/step - loss: 0.2228 - accuracy: 0.8969\n",
      "Epoch 38/100\n",
      "24/24 [==============================] - 0s 650us/step - loss: 0.2250 - accuracy: 0.8950\n",
      "Epoch 39/100\n",
      "24/24 [==============================] - 0s 703us/step - loss: 0.1947 - accuracy: 0.9140\n",
      "Epoch 40/100\n",
      "24/24 [==============================] - 0s 650us/step - loss: 0.2063 - accuracy: 0.9142\n",
      "Epoch 41/100\n",
      "24/24 [==============================] - 0s 694us/step - loss: 0.2168 - accuracy: 0.9088\n",
      "Epoch 42/100\n",
      "24/24 [==============================] - 0s 650us/step - loss: 0.2332 - accuracy: 0.8972\n",
      "Epoch 43/100\n",
      "24/24 [==============================] - 0s 780us/step - loss: 0.2010 - accuracy: 0.9182\n",
      "Epoch 44/100\n",
      "24/24 [==============================] - 0s 954us/step - loss: 0.1929 - accuracy: 0.9237\n",
      "Epoch 45/100\n",
      "24/24 [==============================] - 0s 607us/step - loss: 0.2046 - accuracy: 0.9141\n",
      "Epoch 46/100\n",
      "24/24 [==============================] - 0s 650us/step - loss: 0.2131 - accuracy: 0.9183\n",
      "Epoch 47/100\n",
      "24/24 [==============================] - 0s 607us/step - loss: 0.1979 - accuracy: 0.9116\n",
      "Epoch 48/100\n",
      "24/24 [==============================] - 0s 607us/step - loss: 0.1889 - accuracy: 0.9260\n",
      "Epoch 49/100\n",
      "24/24 [==============================] - 0s 520us/step - loss: 0.2119 - accuracy: 0.9022\n",
      "Epoch 50/100\n",
      "24/24 [==============================] - 0s 737us/step - loss: 0.1979 - accuracy: 0.9164\n",
      "Epoch 51/100\n",
      "24/24 [==============================] - 0s 694us/step - loss: 0.2100 - accuracy: 0.9056\n",
      "Epoch 52/100\n",
      "24/24 [==============================] - 0s 694us/step - loss: 0.1717 - accuracy: 0.9336\n",
      "Epoch 53/100\n",
      "24/24 [==============================] - 0s 650us/step - loss: 0.1881 - accuracy: 0.9211\n",
      "Epoch 54/100\n",
      "24/24 [==============================] - 0s 694us/step - loss: 0.1872 - accuracy: 0.9196\n",
      "Epoch 55/100\n",
      "24/24 [==============================] - 0s 737us/step - loss: 0.1959 - accuracy: 0.9204\n",
      "Epoch 56/100\n",
      "24/24 [==============================] - 0s 997us/step - loss: 0.1789 - accuracy: 0.9230\n",
      "Epoch 57/100\n",
      "24/24 [==============================] - 0s 694us/step - loss: 0.1690 - accuracy: 0.9190\n",
      "Epoch 58/100\n",
      "24/24 [==============================] - 0s 694us/step - loss: 0.1573 - accuracy: 0.9393\n",
      "Epoch 59/100\n",
      "24/24 [==============================] - 0s 650us/step - loss: 0.1744 - accuracy: 0.9231\n",
      "Epoch 60/100\n",
      "24/24 [==============================] - 0s 607us/step - loss: 0.1924 - accuracy: 0.9155\n",
      "Epoch 61/100\n",
      "24/24 [==============================] - 0s 694us/step - loss: 0.1635 - accuracy: 0.9322\n",
      "Epoch 62/100\n",
      "24/24 [==============================] - 0s 563us/step - loss: 0.1422 - accuracy: 0.9405\n",
      "Epoch 63/100\n",
      "24/24 [==============================] - 0s 607us/step - loss: 0.1654 - accuracy: 0.9327\n",
      "Epoch 64/100\n",
      "24/24 [==============================] - 0s 564us/step - loss: 0.1516 - accuracy: 0.9399\n",
      "Epoch 65/100\n",
      "24/24 [==============================] - 0s 564us/step - loss: 0.1534 - accuracy: 0.9378\n",
      "Epoch 66/100\n",
      "24/24 [==============================] - 0s 564us/step - loss: 0.1763 - accuracy: 0.9304\n",
      "Epoch 67/100\n",
      "24/24 [==============================] - 0s 650us/step - loss: 0.1427 - accuracy: 0.9424\n",
      "Epoch 68/100\n",
      "24/24 [==============================] - 0s 564us/step - loss: 0.1439 - accuracy: 0.9437\n",
      "Epoch 69/100\n",
      "24/24 [==============================] - 0s 607us/step - loss: 0.1452 - accuracy: 0.9404\n",
      "Epoch 70/100\n",
      "24/24 [==============================] - 0s 564us/step - loss: 0.1353 - accuracy: 0.9530\n",
      "Epoch 71/100\n",
      "24/24 [==============================] - 0s 607us/step - loss: 0.1331 - accuracy: 0.9515\n",
      "Epoch 72/100\n",
      "24/24 [==============================] - 0s 607us/step - loss: 0.1291 - accuracy: 0.9496\n",
      "Epoch 73/100\n",
      "24/24 [==============================] - 0s 694us/step - loss: 0.1318 - accuracy: 0.9557\n",
      "Epoch 74/100\n",
      "24/24 [==============================] - 0s 867us/step - loss: 0.1384 - accuracy: 0.9392\n",
      "Epoch 75/100\n",
      "24/24 [==============================] - 0s 737us/step - loss: 0.1144 - accuracy: 0.9622\n",
      "Epoch 76/100\n",
      "24/24 [==============================] - 0s 737us/step - loss: 0.1095 - accuracy: 0.9565\n",
      "Epoch 77/100\n",
      "24/24 [==============================] - 0s 911us/step - loss: 0.1214 - accuracy: 0.9458\n",
      "Epoch 78/100\n",
      "24/24 [==============================] - 0s 781us/step - loss: 0.1161 - accuracy: 0.9497\n",
      "Epoch 79/100\n",
      "24/24 [==============================] - 0s 694us/step - loss: 0.1124 - accuracy: 0.9584\n",
      "Epoch 80/100\n",
      "24/24 [==============================] - 0s 694us/step - loss: 0.1063 - accuracy: 0.9629\n",
      "Epoch 81/100\n",
      "24/24 [==============================] - 0s 737us/step - loss: 0.1108 - accuracy: 0.9606\n",
      "Epoch 82/100\n",
      "24/24 [==============================] - 0s 694us/step - loss: 0.0960 - accuracy: 0.9715\n",
      "Epoch 83/100\n",
      "24/24 [==============================] - 0s 607us/step - loss: 0.0946 - accuracy: 0.9722\n",
      "Epoch 84/100\n",
      "24/24 [==============================] - 0s 737us/step - loss: 0.0946 - accuracy: 0.9687\n",
      "Epoch 85/100\n",
      "24/24 [==============================] - 0s 607us/step - loss: 0.0895 - accuracy: 0.9681\n",
      "Epoch 86/100\n",
      "24/24 [==============================] - 0s 737us/step - loss: 0.0792 - accuracy: 0.9774\n",
      "Epoch 87/100\n",
      "24/24 [==============================] - 0s 650us/step - loss: 0.0849 - accuracy: 0.9771\n",
      "Epoch 88/100\n",
      "24/24 [==============================] - 0s 607us/step - loss: 0.0775 - accuracy: 0.9781\n",
      "Epoch 89/100\n",
      "24/24 [==============================] - 0s 607us/step - loss: 0.0840 - accuracy: 0.9742\n",
      "Epoch 90/100\n",
      "24/24 [==============================] - 0s 780us/step - loss: 0.0770 - accuracy: 0.9785\n",
      "Epoch 91/100\n",
      "24/24 [==============================] - 0s 694us/step - loss: 0.0765 - accuracy: 0.9743\n",
      "Epoch 92/100\n",
      "24/24 [==============================] - 0s 650us/step - loss: 0.0773 - accuracy: 0.9795\n",
      "Epoch 93/100\n",
      "24/24 [==============================] - 0s 650us/step - loss: 0.0654 - accuracy: 0.9826\n",
      "Epoch 94/100\n",
      "24/24 [==============================] - 0s 694us/step - loss: 0.0629 - accuracy: 0.9829\n",
      "Epoch 95/100\n",
      "24/24 [==============================] - 0s 694us/step - loss: 0.0607 - accuracy: 0.9878\n",
      "Epoch 96/100\n",
      "24/24 [==============================] - 0s 694us/step - loss: 0.0558 - accuracy: 0.9897\n",
      "Epoch 97/100\n",
      "24/24 [==============================] - 0s 564us/step - loss: 0.0504 - accuracy: 0.9954\n",
      "Epoch 98/100\n",
      "24/24 [==============================] - 0s 650us/step - loss: 0.0548 - accuracy: 0.9878\n",
      "Epoch 99/100\n",
      "24/24 [==============================] - 0s 564us/step - loss: 0.0458 - accuracy: 0.9930\n",
      "Epoch 100/100\n",
      "24/24 [==============================] - 0s 564us/step - loss: 0.0460 - accuracy: 0.9966\n"
     ]
    }
   ],
   "source": [
    "# Fit the model to the training data\n",
    "new_fit_model = new_model.fit(X_moon_train_scaled, y_moon_train, epochs=100, shuffle=True)"
   ]
  },
  {
   "cell_type": "code",
   "execution_count": null,
   "metadata": {},
   "outputs": [],
   "source": []
  }
 ],
 "metadata": {
  "kernelspec": {
   "display_name": "PythonData",
   "language": "python",
   "name": "pythondata"
  },
  "language_info": {
   "codemirror_mode": {
    "name": "ipython",
    "version": 3
   },
   "file_extension": ".py",
   "mimetype": "text/x-python",
   "name": "python",
   "nbconvert_exporter": "python",
   "pygments_lexer": "ipython3",
   "version": "3.7.7"
  }
 },
 "nbformat": 4,
 "nbformat_minor": 4
}
