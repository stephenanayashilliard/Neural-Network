{
 "cells": [
  {
   "cell_type": "code",
   "execution_count": null,
   "metadata": {},
   "outputs": [],
   "source": [
    "# Practice Encoding a Logistical Regression Model and a Basic Neural Network"
   ]
  },
  {
   "cell_type": "code",
   "execution_count": 1,
   "metadata": {},
   "outputs": [],
   "source": [
    "# Import our dependencies\n",
    "from sklearn.model_selection import train_test_split\n",
    "from sklearn.preprocessing import StandardScaler\n",
    "from sklearn.linear_model import LogisticRegression\n",
    "from sklearn.metrics import accuracy_score\n",
    "import pandas as pd\n",
    "import tensorflow as tf"
   ]
  },
  {
   "cell_type": "code",
   "execution_count": 2,
   "metadata": {},
   "outputs": [
    {
     "data": {
      "text/html": [
       "<div>\n",
       "<style scoped>\n",
       "    .dataframe tbody tr th:only-of-type {\n",
       "        vertical-align: middle;\n",
       "    }\n",
       "\n",
       "    .dataframe tbody tr th {\n",
       "        vertical-align: top;\n",
       "    }\n",
       "\n",
       "    .dataframe thead th {\n",
       "        text-align: right;\n",
       "    }\n",
       "</style>\n",
       "<table border=\"1\" class=\"dataframe\">\n",
       "  <thead>\n",
       "    <tr style=\"text-align: right;\">\n",
       "      <th></th>\n",
       "      <th>Pregnancies</th>\n",
       "      <th>Glucose</th>\n",
       "      <th>BloodPressure</th>\n",
       "      <th>SkinThickness</th>\n",
       "      <th>Insulin</th>\n",
       "      <th>BMI</th>\n",
       "      <th>DiabetesPedigreeFunction</th>\n",
       "      <th>Age</th>\n",
       "      <th>Outcome</th>\n",
       "    </tr>\n",
       "  </thead>\n",
       "  <tbody>\n",
       "    <tr>\n",
       "      <th>0</th>\n",
       "      <td>6</td>\n",
       "      <td>148</td>\n",
       "      <td>72</td>\n",
       "      <td>35</td>\n",
       "      <td>0</td>\n",
       "      <td>33.6</td>\n",
       "      <td>0.627</td>\n",
       "      <td>50</td>\n",
       "      <td>1</td>\n",
       "    </tr>\n",
       "    <tr>\n",
       "      <th>1</th>\n",
       "      <td>1</td>\n",
       "      <td>85</td>\n",
       "      <td>66</td>\n",
       "      <td>29</td>\n",
       "      <td>0</td>\n",
       "      <td>26.6</td>\n",
       "      <td>0.351</td>\n",
       "      <td>31</td>\n",
       "      <td>0</td>\n",
       "    </tr>\n",
       "    <tr>\n",
       "      <th>2</th>\n",
       "      <td>8</td>\n",
       "      <td>183</td>\n",
       "      <td>64</td>\n",
       "      <td>0</td>\n",
       "      <td>0</td>\n",
       "      <td>23.3</td>\n",
       "      <td>0.672</td>\n",
       "      <td>32</td>\n",
       "      <td>1</td>\n",
       "    </tr>\n",
       "    <tr>\n",
       "      <th>3</th>\n",
       "      <td>1</td>\n",
       "      <td>89</td>\n",
       "      <td>66</td>\n",
       "      <td>23</td>\n",
       "      <td>94</td>\n",
       "      <td>28.1</td>\n",
       "      <td>0.167</td>\n",
       "      <td>21</td>\n",
       "      <td>0</td>\n",
       "    </tr>\n",
       "    <tr>\n",
       "      <th>4</th>\n",
       "      <td>0</td>\n",
       "      <td>137</td>\n",
       "      <td>40</td>\n",
       "      <td>35</td>\n",
       "      <td>168</td>\n",
       "      <td>43.1</td>\n",
       "      <td>2.288</td>\n",
       "      <td>33</td>\n",
       "      <td>1</td>\n",
       "    </tr>\n",
       "  </tbody>\n",
       "</table>\n",
       "</div>"
      ],
      "text/plain": [
       "   Pregnancies  Glucose  BloodPressure  SkinThickness  Insulin   BMI  \\\n",
       "0            6      148             72             35        0  33.6   \n",
       "1            1       85             66             29        0  26.6   \n",
       "2            8      183             64              0        0  23.3   \n",
       "3            1       89             66             23       94  28.1   \n",
       "4            0      137             40             35      168  43.1   \n",
       "\n",
       "   DiabetesPedigreeFunction  Age  Outcome  \n",
       "0                     0.627   50        1  \n",
       "1                     0.351   31        0  \n",
       "2                     0.672   32        1  \n",
       "3                     0.167   21        0  \n",
       "4                     2.288   33        1  "
      ]
     },
     "execution_count": 2,
     "metadata": {},
     "output_type": "execute_result"
    }
   ],
   "source": [
    "# Import our input dataset\n",
    "diabetes_df = pd.read_csv('diabetes.csv')\n",
    "diabetes_df.head()"
   ]
  },
  {
   "cell_type": "markdown",
   "metadata": {},
   "source": [
    " With our logistic regression model, there is no preprocessing or scaling required for the data. However, our basic neural network needs the numerical variables standardized. Therefore, we'll need to keep track of a scaled and unscaled training dataset such that both models have the correct input data in their preferred formats. "
   ]
  },
  {
   "cell_type": "code",
   "execution_count": 3,
   "metadata": {},
   "outputs": [],
   "source": [
    "# Remove diabetes outcome target from features data\n",
    "y = diabetes_df.Outcome\n",
    "X = diabetes_df.drop(columns=\"Outcome\")"
   ]
  },
  {
   "cell_type": "code",
   "execution_count": 4,
   "metadata": {},
   "outputs": [],
   "source": [
    "# Split training/test datasets\n",
    "X_train, X_test, y_train, y_test = train_test_split(X, y, random_state=42, stratify=y)"
   ]
  },
  {
   "cell_type": "markdown",
   "metadata": {},
   "source": [
    "Next, we need to standardize the numerical variables using Scikit-learn's StandardScaler class"
   ]
  },
  {
   "cell_type": "code",
   "execution_count": 5,
   "metadata": {},
   "outputs": [],
   "source": [
    "# Preprocess numerical data for neural network\n",
    "\n",
    "# Create a StandardScaler instance\n",
    "scaler = StandardScaler()\n",
    "\n",
    "# Fit the StandardScaler\n",
    "X_scaler = scaler.fit(X_train)\n",
    "\n",
    "# Scale the data\n",
    "X_train_scaled = X_scaler.transform(X_train)\n",
    "X_test_scaled = X_scaler.transform(X_test)"
   ]
  },
  {
   "cell_type": "markdown",
   "metadata": {},
   "source": [
    "## the Logistic Regression Model\n",
    "For our purposes, we'll use our basic logistic regression parameters, which include:\n",
    "\n",
    "The solver parameter is set to 'lbfgs', which is an algorithm for learning and optimization. The particular solver isn't very important in this example, but note that a number of optimizers exist.\n",
    "\n",
    "The max_iter parameter will be set to 200 iterations, which will give the model sufficient opportunity to converge on effective weights"
   ]
  },
  {
   "cell_type": "code",
   "execution_count": 6,
   "metadata": {},
   "outputs": [
    {
     "name": "stdout",
     "output_type": "stream",
     "text": [
      " Logistic regression model accuracy: 0.729\n"
     ]
    }
   ],
   "source": [
    "# Define the logistic regression model\n",
    "log_classifier = LogisticRegression(solver=\"lbfgs\",max_iter=200)\n",
    "\n",
    "# Train the model\n",
    "log_classifier.fit(X_train,y_train)\n",
    "\n",
    "# Evaluate the model\n",
    "y_pred = log_classifier.predict(X_test)\n",
    "print(f\" Logistic regression model accuracy: {accuracy_score(y_test,y_pred):.3f}\")"
   ]
  },
  {
   "cell_type": "markdown",
   "metadata": {},
   "source": [
    "Next, we need to build, compile, and evaluate our basic neural network model. Again, we'll use our typical binary classifier parameters:\n",
    "\n",
    "Our single hidden layer will have an input_dim equal to 8, 16 neuron units, and will use the relu activation function.\n",
    "\n",
    "The loss function should be binary_crossentropy, using the adam optimizer.\n",
    "\n",
    "Our model should provide the additional accuracy scoring metric and train over a maximum of 50 epochs."
   ]
  },
  {
   "cell_type": "markdown",
   "metadata": {},
   "source": [
    "### Note\n",
    "Compared to the 200 training iterations for our logistic regression model, we'll only train our neural network model through 50 epochs—this will limit the risk of overfitting our model."
   ]
  },
  {
   "cell_type": "code",
   "execution_count": 7,
   "metadata": {},
   "outputs": [
    {
     "name": "stdout",
     "output_type": "stream",
     "text": [
      "Epoch 1/50\n",
      "18/18 [==============================] - 0s 528us/step - loss: 0.6457 - accuracy: 0.6719\n",
      "Epoch 2/50\n",
      "18/18 [==============================] - 0s 645us/step - loss: 0.6228 - accuracy: 0.6716\n",
      "Epoch 3/50\n",
      "18/18 [==============================] - 0s 528us/step - loss: 0.6156 - accuracy: 0.6800\n",
      "Epoch 4/50\n",
      "18/18 [==============================] - 0s 587us/step - loss: 0.5969 - accuracy: 0.6900\n",
      "Epoch 5/50\n",
      "18/18 [==============================] - 0s 587us/step - loss: 0.5598 - accuracy: 0.7095\n",
      "Epoch 6/50\n",
      "18/18 [==============================] - 0s 528us/step - loss: 0.5523 - accuracy: 0.7087\n",
      "Epoch 7/50\n",
      "18/18 [==============================] - 0s 528us/step - loss: 0.5264 - accuracy: 0.7481\n",
      "Epoch 8/50\n",
      "18/18 [==============================] - 0s 587us/step - loss: 0.5301 - accuracy: 0.7342\n",
      "Epoch 9/50\n",
      "18/18 [==============================] - 0s 469us/step - loss: 0.5275 - accuracy: 0.7592\n",
      "Epoch 10/50\n",
      "18/18 [==============================] - 0s 645us/step - loss: 0.5070 - accuracy: 0.7691\n",
      "Epoch 11/50\n",
      "18/18 [==============================] - 0s 587us/step - loss: 0.4963 - accuracy: 0.7887\n",
      "Epoch 12/50\n",
      "18/18 [==============================] - 0s 587us/step - loss: 0.5044 - accuracy: 0.7761\n",
      "Epoch 13/50\n",
      "18/18 [==============================] - 0s 469us/step - loss: 0.4497 - accuracy: 0.8111\n",
      "Epoch 14/50\n",
      "18/18 [==============================] - 0s 587us/step - loss: 0.4856 - accuracy: 0.7659\n",
      "Epoch 15/50\n",
      "18/18 [==============================] - 0s 587us/step - loss: 0.4794 - accuracy: 0.7777\n",
      "Epoch 16/50\n",
      "18/18 [==============================] - ETA: 0s - loss: 0.4462 - accuracy: 0.78 - 0s 469us/step - loss: 0.4742 - accuracy: 0.7838\n",
      "Epoch 17/50\n",
      "18/18 [==============================] - 0s 528us/step - loss: 0.4837 - accuracy: 0.7832\n",
      "Epoch 18/50\n",
      "18/18 [==============================] - 0s 528us/step - loss: 0.4618 - accuracy: 0.7896\n",
      "Epoch 19/50\n",
      "18/18 [==============================] - 0s 528us/step - loss: 0.4640 - accuracy: 0.8035\n",
      "Epoch 20/50\n",
      "18/18 [==============================] - 0s 469us/step - loss: 0.4526 - accuracy: 0.8032\n",
      "Epoch 21/50\n",
      "18/18 [==============================] - 0s 528us/step - loss: 0.4820 - accuracy: 0.7775\n",
      "Epoch 22/50\n",
      "18/18 [==============================] - 0s 528us/step - loss: 0.4589 - accuracy: 0.7913\n",
      "Epoch 23/50\n",
      "18/18 [==============================] - 0s 528us/step - loss: 0.4412 - accuracy: 0.8149\n",
      "Epoch 24/50\n",
      "18/18 [==============================] - 0s 645us/step - loss: 0.4560 - accuracy: 0.7727\n",
      "Epoch 25/50\n",
      "18/18 [==============================] - 0s 528us/step - loss: 0.4854 - accuracy: 0.7885\n",
      "Epoch 26/50\n",
      "18/18 [==============================] - 0s 587us/step - loss: 0.4789 - accuracy: 0.7666\n",
      "Epoch 27/50\n",
      "18/18 [==============================] - 0s 469us/step - loss: 0.4243 - accuracy: 0.8170\n",
      "Epoch 28/50\n",
      "18/18 [==============================] - 0s 587us/step - loss: 0.4507 - accuracy: 0.7963\n",
      "Epoch 29/50\n",
      "18/18 [==============================] - 0s 587us/step - loss: 0.4469 - accuracy: 0.8038\n",
      "Epoch 30/50\n",
      "18/18 [==============================] - 0s 528us/step - loss: 0.4545 - accuracy: 0.7961\n",
      "Epoch 31/50\n",
      "18/18 [==============================] - 0s 528us/step - loss: 0.4533 - accuracy: 0.8024\n",
      "Epoch 32/50\n",
      "18/18 [==============================] - 0s 528us/step - loss: 0.4359 - accuracy: 0.8077\n",
      "Epoch 33/50\n",
      "18/18 [==============================] - 0s 587us/step - loss: 0.4439 - accuracy: 0.7913\n",
      "Epoch 34/50\n",
      "18/18 [==============================] - 0s 528us/step - loss: 0.4445 - accuracy: 0.7937\n",
      "Epoch 35/50\n",
      "18/18 [==============================] - 0s 587us/step - loss: 0.4305 - accuracy: 0.8100\n",
      "Epoch 36/50\n",
      "18/18 [==============================] - 0s 587us/step - loss: 0.4465 - accuracy: 0.7855\n",
      "Epoch 37/50\n",
      "18/18 [==============================] - 0s 704us/step - loss: 0.4336 - accuracy: 0.8110\n",
      "Epoch 38/50\n",
      "18/18 [==============================] - 0s 587us/step - loss: 0.4550 - accuracy: 0.7916\n",
      "Epoch 39/50\n",
      "18/18 [==============================] - 0s 587us/step - loss: 0.4662 - accuracy: 0.7897\n",
      "Epoch 40/50\n",
      "18/18 [==============================] - 0s 587us/step - loss: 0.4455 - accuracy: 0.8058\n",
      "Epoch 41/50\n",
      "18/18 [==============================] - 0s 645us/step - loss: 0.4484 - accuracy: 0.7989\n",
      "Epoch 42/50\n",
      "18/18 [==============================] - 0s 763us/step - loss: 0.4092 - accuracy: 0.8229\n",
      "Epoch 43/50\n",
      "18/18 [==============================] - 0s 704us/step - loss: 0.4185 - accuracy: 0.8089\n",
      "Epoch 44/50\n",
      "18/18 [==============================] - 0s 542us/step - loss: 0.4855 - accuracy: 0.7793\n",
      "Epoch 45/50\n",
      "18/18 [==============================] - 0s 469us/step - loss: 0.4172 - accuracy: 0.8106\n",
      "Epoch 46/50\n",
      "18/18 [==============================] - 0s 528us/step - loss: 0.4454 - accuracy: 0.7888\n",
      "Epoch 47/50\n",
      "18/18 [==============================] - 0s 645us/step - loss: 0.4529 - accuracy: 0.7835\n",
      "Epoch 48/50\n",
      "18/18 [==============================] - 0s 645us/step - loss: 0.4428 - accuracy: 0.7897\n",
      "Epoch 49/50\n",
      "18/18 [==============================] - ETA: 0s - loss: 0.5148 - accuracy: 0.84 - 0s 763us/step - loss: 0.4522 - accuracy: 0.7920\n",
      "Epoch 50/50\n",
      "18/18 [==============================] - 0s 587us/step - loss: 0.4222 - accuracy: 0.7907\n",
      "6/6 - 0s - loss: 0.4860 - accuracy: 0.7240\n",
      "Loss: 0.4860135316848755, Accuracy: 0.7239583134651184\n"
     ]
    }
   ],
   "source": [
    "# Define the basic neural network model\n",
    "nn_model = tf.keras.models.Sequential()\n",
    "nn_model.add(tf.keras.layers.Dense(units=16, activation=\"relu\", input_dim=8))\n",
    "nn_model.add(tf.keras.layers.Dense(units=1, activation=\"sigmoid\"))\n",
    "\n",
    "# Compile the Sequential model together and customize metrics\n",
    "nn_model.compile(loss=\"binary_crossentropy\", optimizer=\"adam\", metrics=[\"accuracy\"])\n",
    "\n",
    "# Train the model\n",
    "fit_model = nn_model.fit(X_train_scaled, y_train, epochs=50)\n",
    "\n",
    "# Evaluate the model using the test data\n",
    "model_loss, model_accuracy = nn_model.evaluate(X_test_scaled,y_test,verbose=2)\n",
    "print(f\"Loss: {model_loss}, Accuracy: {model_accuracy}\")"
   ]
  },
  {
   "cell_type": "markdown",
   "metadata": {},
   "source": [
    "If we compare both model's predictive accuracy, their output is very similar. Either model was able to predict whether or not a patient is diagnosed with diabetes more than 70% of the time."
   ]
  },
  {
   "cell_type": "markdown",
   "metadata": {},
   "source": [
    "Beyond the performance of both models, there are a few other factors to consider when selecting a model for your data. First, neural networks are prone to overfitting and can be more difficult to train than a straightforward logistic regression model. Therefore, if you are trying to build a classifier with limited data points (typically fewer than a thousand data points), or if your dataset has only a few features, neural networks may be overcomplicated. Additionally, logistic regression models are easier to dissect and interpret than their neural network counterparts, which tends to put more traditional data scientists and non-data experts at ease. In contrast, neural networks (and especially deep neural networks) thrive in large datasets. Datasets with thousands of data points, or datasets with complex features, may overwhelm the logistic regression model, while a deep learning model can evaluate every interaction within and across neurons. Therefore, the decision between using a logistic regression model and basic neural network model is nuanced and, in most cases, a matter of preference for the data scientist."
   ]
  },
  {
   "cell_type": "code",
   "execution_count": null,
   "metadata": {},
   "outputs": [],
   "source": []
  }
 ],
 "metadata": {
  "kernelspec": {
   "display_name": "PythonData",
   "language": "python",
   "name": "pythondata"
  },
  "language_info": {
   "codemirror_mode": {
    "name": "ipython",
    "version": 3
   },
   "file_extension": ".py",
   "mimetype": "text/x-python",
   "name": "python",
   "nbconvert_exporter": "python",
   "pygments_lexer": "ipython3",
   "version": "3.7.7"
  }
 },
 "nbformat": 4,
 "nbformat_minor": 4
}
